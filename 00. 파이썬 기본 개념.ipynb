{
 "cells": [
  {
   "cell_type": "markdown",
   "metadata": {},
   "source": [
    "## 1. 파이썬 식별자와 예약어"
   ]
  },
  {
   "cell_type": "markdown",
   "metadata": {},
   "source": [
    "### 1) 파이썬의 식별자"
   ]
  },
  {
   "cell_type": "markdown",
   "metadata": {},
   "source": [
    "- 파이썬 식별자는 변수, 함수, 클래스, 모듈 또는 다른 개체를 식별하는데 사용되는 이름이다.\n",
    "- 식별자는 문자 A~Z로 시작하고 밑줄(_), 숫자(0~9) 를 사용할 수 있다.\n",
    "- 파이썬은 문자 @, $, %는 식별자로 사용할 수 없다.\n",
    "- 파이썬은 대소문자를 구분한다."
   ]
  },
  {
   "cell_type": "markdown",
   "metadata": {},
   "source": [
    "### 2) 파이썬의 예약어"
   ]
  },
  {
   "cell_type": "code",
   "execution_count": 1,
   "metadata": {},
   "outputs": [
    {
     "name": "stdout",
     "output_type": "stream",
     "text": [
      "['False', 'None', 'True', 'and', 'as', 'assert', 'async', 'await', 'break', 'class', 'continue', 'def', 'del', 'elif', 'else', 'except', 'finally', 'for', 'from', 'global', 'if', 'import', 'in', 'is', 'lambda', 'nonlocal', 'not', 'or', 'pass', 'raise', 'return', 'try', 'while', 'with', 'yield']\n",
      "35\n"
     ]
    }
   ],
   "source": [
    "# 모듈을 불러오는 코드\n",
    "import keyword\n",
    "\n",
    "# 파이썬의 예약어 목록\n",
    "print(keyword.kwlist)\n",
    "\n",
    "# len() 개수 계산\n",
    "print(len(keyword.kwlist))"
   ]
  },
  {
   "cell_type": "markdown",
   "metadata": {},
   "source": [
    "- 위의 예약어는 파이썬에서 이미 문법적인 용도로 사용되고 있기 때문에 변수명 등의 식별자로 사용하면 안 됨 \n",
    "- 총 35개"
   ]
  },
  {
   "cell_type": "markdown",
   "metadata": {},
   "source": [
    "## 2. 변수와 상수\n"
   ]
  },
  {
   "cell_type": "markdown",
   "metadata": {},
   "source": [
    "**< 변수와 상수 >**\n",
    "- 변수(Variable)\n",
    "    - 변하는 값\n",
    "    - 하나의 값을 저장할 수 있는 기억공간\n",
    "    - 변수에 값을 저장함\n",
    "    \n",
    "- 상수(Constant)\n",
    "    - 변하지 않는 값\n",
    "    \n",
    "- 변수의 type (Data type)\n",
    "    - 문자형\n",
    "    - 숫자형 : 정수형, 실수형\n",
    "    - 논리형 : True, False\n",
    "\n",
    "- 변수 선언\n",
    "    - 파이썬에서는 변수를 선언할 필요가 없음\n",
    "    - 변수의 이름은 같은 영역에서 중복될 수 없음\n",
    "\n",
    "- 표현\n",
    "    - i = 10\n",
    "    - 변수명 = 값"
   ]
  },
  {
   "cell_type": "markdown",
   "metadata": {},
   "source": [
    "**< 사용 범위에 따른 변수의 종류 >**\n",
    "- 지역변수(local variable)\n",
    "    - 함수 내부에 선언된 변수\n",
    "    - 함수 내부에서만 사용 가능\n",
    "    - 함수가 호출될 때 생성되고 함수가 종료되면 자동으로 삭제됨\n",
    "- 전역변수(global variable)\n",
    "    - 함수 외부에 선언된 변수\n",
    "    - 프로그램 전체에서 사용 가능"
   ]
  },
  {
   "cell_type": "markdown",
   "metadata": {},
   "source": [
    "**< Unicode와 ASCII code >**\n",
    "- 유니코드 (Unicode)\n",
    "    - 16비트(2바이트) 기반의 다국적 문자 체계\n",
    "    - 전세계 대부분의 문자를 수용, 다국어 처리에 효과적\n",
    "- 아스키코드(미국정보교환표준부호, American Standard Code for Information Interchange; ASCII)\n",
    "    - Information Inter change; ASCII\n",
    "    - 8비트(1바이트) 코드 체계"
   ]
  },
  {
   "cell_type": "markdown",
   "metadata": {},
   "source": [
    "## 3. 파이썬 언어의 특징"
   ]
  },
  {
   "cell_type": "markdown",
   "metadata": {},
   "source": [
    "**< 파이썬은 인터프리터 >**\n",
    "- 인터프리터: 한 줄 읽고 한 줄 실행\n",
    "- 컴파일러: 전체 한꺼번에 실행. 속도는 더 빠름\n",
    "\n",
    "- 기억 되어있는 게 아니라 전체 재실행 해야 함(커널 재실행)\n",
    "- 에러 뜨면 중간에 멈춤"
   ]
  },
  {
   "cell_type": "code",
   "execution_count": null,
   "metadata": {},
   "outputs": [],
   "source": []
  }
 ],
 "metadata": {
  "kernelspec": {
   "display_name": "Python 3",
   "language": "python",
   "name": "python3"
  },
  "language_info": {
   "codemirror_mode": {
    "name": "ipython",
    "version": 3
   },
   "file_extension": ".py",
   "mimetype": "text/x-python",
   "name": "python",
   "nbconvert_exporter": "python",
   "pygments_lexer": "ipython3",
   "version": "3.7.1"
  }
 },
 "nbformat": 4,
 "nbformat_minor": 2
}
