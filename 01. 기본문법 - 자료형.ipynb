{
 "cells": [
  {
   "cell_type": "markdown",
   "metadata": {},
   "source": [
    "## 0. 변수의 자료형"
   ]
  },
  {
   "cell_type": "markdown",
   "metadata": {},
   "source": [
    "**< 변수의 type >**\n",
    "- str(string): 문자형\n",
    "- int(integer): 정수형\n",
    "- float(Floating-point): 실수형\n",
    "- bool: 논리형(True, False)\n",
    "\n",
    "파이썬에서는 변수 선언이 필요 없음.\n",
    "변수 중복 사용 불가. 그냥 늘 새로 덮어씌워 짐"
   ]
  },
  {
   "cell_type": "code",
   "execution_count": 8,
   "metadata": {},
   "outputs": [
    {
     "name": "stdout",
     "output_type": "stream",
     "text": [
      "<class 'int'>\n"
     ]
    }
   ],
   "source": [
    "# 변수는 좌변에 위치\n",
    "# 상수는 우변에 위치\n",
    "count = 10\n",
    "count = 20\n",
    "\n",
    "print(type(count))"
   ]
  },
  {
   "cell_type": "code",
   "execution_count": 9,
   "metadata": {},
   "outputs": [
    {
     "data": {
      "text/plain": [
       "20"
      ]
     },
     "execution_count": 9,
     "metadata": {},
     "output_type": "execute_result"
    }
   ],
   "source": [
    "count"
   ]
  },
  {
   "cell_type": "code",
   "execution_count": 10,
   "metadata": {},
   "outputs": [
    {
     "ename": "SyntaxError",
     "evalue": "can't assign to literal (<ipython-input-10-26d91706a944>, line 1)",
     "output_type": "error",
     "traceback": [
      "\u001b[0;36m  File \u001b[0;32m\"<ipython-input-10-26d91706a944>\"\u001b[0;36m, line \u001b[0;32m1\u001b[0m\n\u001b[0;31m    20 = count\u001b[0m\n\u001b[0m              ^\u001b[0m\n\u001b[0;31mSyntaxError\u001b[0m\u001b[0;31m:\u001b[0m can't assign to literal\n"
     ]
    }
   ],
   "source": [
    "20 = count\n",
    "# 상수는 바뀔 수 없음\n",
    "# 변수는 숫자로 시작할 수 없음 (첫 글자에 숫자가 오면 안 됨) ==> 에러 뜸"
   ]
  },
  {
   "cell_type": "code",
   "execution_count": 49,
   "metadata": {},
   "outputs": [
    {
     "name": "stdout",
     "output_type": "stream",
     "text": [
      "<class 'int'>\n",
      "<class 'float'>\n",
      "<class 'str'>\n"
     ]
    }
   ],
   "source": [
    "# type(변수 또는 상수) 자료형이 무엇인지 출력하는 함수\n",
    "print(type(10))\n",
    "print(type(10.5))\n",
    "print(type('hello'))"
   ]
  },
  {
   "cell_type": "code",
   "execution_count": 11,
   "metadata": {},
   "outputs": [
    {
     "name": "stdout",
     "output_type": "stream",
     "text": [
      "A\n",
      "<class 'str'>\n"
     ]
    }
   ],
   "source": [
    "# 파이썬은 가변자료형. 우변의 값에 따라 자료형이 계속해서 바뀔 수 있음 (자료형 선언 x)\n",
    "# 파이썬은 대소문자가 중요. 지켜줘야 함.\n",
    "# 하지만 한 변수의 계속 자료형을 바꾸는 것은 오류날 수도 있으므로 자주 바꾸지 말자\n",
    "\n",
    "count = 'A'\n",
    "print(count)\n",
    "print(type(count))"
   ]
  },
  {
   "cell_type": "code",
   "execution_count": 12,
   "metadata": {},
   "outputs": [
    {
     "name": "stdout",
     "output_type": "stream",
     "text": [
      "10.5\n",
      "<class 'float'>\n"
     ]
    }
   ],
   "source": [
    "count=10.5\n",
    "print(count)\n",
    "print(type(count))"
   ]
  },
  {
   "cell_type": "code",
   "execution_count": 13,
   "metadata": {},
   "outputs": [
    {
     "name": "stdout",
     "output_type": "stream",
     "text": [
      "True\n",
      "<class 'bool'>\n"
     ]
    }
   ],
   "source": [
    "count=True\n",
    "print(count)\n",
    "print(type(count))"
   ]
  },
  {
   "cell_type": "markdown",
   "metadata": {},
   "source": [
    "  "
   ]
  },
  {
   "cell_type": "markdown",
   "metadata": {},
   "source": [
    "## 1. 숫자형"
   ]
  },
  {
   "cell_type": "code",
   "execution_count": 2,
   "metadata": {},
   "outputs": [
    {
     "data": {
      "text/plain": [
       "3"
      ]
     },
     "execution_count": 2,
     "metadata": {},
     "output_type": "execute_result"
    }
   ],
   "source": [
    "1+2 #덧셈"
   ]
  },
  {
   "cell_type": "code",
   "execution_count": 3,
   "metadata": {},
   "outputs": [
    {
     "data": {
      "text/plain": [
       "1.25"
      ]
     },
     "execution_count": 3,
     "metadata": {},
     "output_type": "execute_result"
    }
   ],
   "source": [
    "3/2.4 \n",
    "# 나눗셈(실수몫)"
   ]
  },
  {
   "cell_type": "code",
   "execution_count": 4,
   "metadata": {},
   "outputs": [
    {
     "data": {
      "text/plain": [
       "1.0"
      ]
     },
     "execution_count": 4,
     "metadata": {},
     "output_type": "execute_result"
    }
   ],
   "source": [
    "3//2.4 \n",
    "# 나눗셈(정수몫)"
   ]
  },
  {
   "cell_type": "code",
   "execution_count": 5,
   "metadata": {},
   "outputs": [
    {
     "data": {
      "text/plain": [
       "27"
      ]
     },
     "execution_count": 5,
     "metadata": {},
     "output_type": "execute_result"
    }
   ],
   "source": [
    "3*9 \n",
    "# 곱셈\n",
    "# 3X9로 입력 시 에러 발생"
   ]
  },
  {
   "cell_type": "code",
   "execution_count": 6,
   "metadata": {},
   "outputs": [],
   "source": [
    "# toggle\n",
    "# Ctrl+A 단체선택\n",
    "# Ctrl+/ 주석처리/해제"
   ]
  },
  {
   "cell_type": "code",
   "execution_count": 7,
   "metadata": {},
   "outputs": [
    {
     "data": {
      "text/plain": [
       "'\\n주석처리\\n'"
      ]
     },
     "execution_count": 7,
     "metadata": {},
     "output_type": "execute_result"
    }
   ],
   "source": [
    "'''\n",
    "주석처리\n",
    "'''\n",
    "\"\"\"\n",
    "주석처리\n",
    "\"\"\""
   ]
  },
  {
   "cell_type": "code",
   "execution_count": 18,
   "metadata": {},
   "outputs": [
    {
     "name": "stdout",
     "output_type": "stream",
     "text": [
      "10\n",
      "11\n",
      "16\n"
     ]
    }
   ],
   "source": [
    "a = 10\n",
    "print(a)\n",
    "a += 1 # a = a+1\n",
    "print(a)\n",
    "a += 5\n",
    "print(a)"
   ]
  },
  {
   "cell_type": "code",
   "execution_count": 19,
   "metadata": {},
   "outputs": [
    {
     "name": "stdout",
     "output_type": "stream",
     "text": [
      "9\n"
     ]
    }
   ],
   "source": [
    "a = 10\n",
    "a -= 1 # a = a-1\n",
    "print(a)"
   ]
  },
  {
   "cell_type": "code",
   "execution_count": 20,
   "metadata": {},
   "outputs": [],
   "source": [
    "# a = 10\n",
    "# a++ # 에러. ++나 --라는 문법은 없음\n",
    "# print(a)"
   ]
  },
  {
   "cell_type": "code",
   "execution_count": 28,
   "metadata": {},
   "outputs": [
    {
     "data": {
      "text/plain": [
       "81"
      ]
     },
     "execution_count": 28,
     "metadata": {},
     "output_type": "execute_result"
    }
   ],
   "source": [
    "a = 3\n",
    "b = 4\n",
    "a**b # 제곱"
   ]
  },
  {
   "cell_type": "code",
   "execution_count": 14,
   "metadata": {},
   "outputs": [],
   "source": [
    "a = 10\n",
    "b = 20\n",
    "c = 30"
   ]
  },
  {
   "cell_type": "code",
   "execution_count": 15,
   "metadata": {},
   "outputs": [
    {
     "data": {
      "text/plain": [
       "30"
      ]
     },
     "execution_count": 15,
     "metadata": {},
     "output_type": "execute_result"
    }
   ],
   "source": [
    "a\n",
    "b\n",
    "c"
   ]
  },
  {
   "cell_type": "code",
   "execution_count": 16,
   "metadata": {},
   "outputs": [],
   "source": [
    "# 셀 한 개에 하나의 값만 출력하기 때문에 마지막 줄의 값만 출력함\n",
    "# 모든 값을 출력하여 보고 싶다면 print 함수를 사용해야 함"
   ]
  },
  {
   "cell_type": "code",
   "execution_count": 17,
   "metadata": {
    "scrolled": true
   },
   "outputs": [
    {
     "name": "stdout",
     "output_type": "stream",
     "text": [
      "10\n",
      "20\n",
      "30\n"
     ]
    }
   ],
   "source": [
    "print(a)\n",
    "print(b)\n",
    "print(c)"
   ]
  },
  {
   "cell_type": "code",
   "execution_count": 32,
   "metadata": {},
   "outputs": [
    {
     "name": "stdout",
     "output_type": "stream",
     "text": [
      "10 20\n",
      "10 10 10\n"
     ]
    }
   ],
   "source": [
    "# a에 10, b에 20을 대입하기\n",
    "a,b = 10,20\n",
    "print(a,b)\n",
    "# 오른쪽에서 왼쪽으로 대입\n",
    "i=j=k=10\n",
    "print(i,j,k)"
   ]
  },
  {
   "cell_type": "code",
   "execution_count": 33,
   "metadata": {},
   "outputs": [
    {
     "name": "stdout",
     "output_type": "stream",
     "text": [
      "10 20\n",
      "20 10\n"
     ]
    }
   ],
   "source": [
    "a,b = 10,20\n",
    "print(a,b)\n",
    "# a에 b, b에 a\n",
    "a,b = b,a # 제일 간단한 문법. 동시에 처리해 줌\n",
    "print(a,b)"
   ]
  },
  {
   "cell_type": "code",
   "execution_count": 34,
   "metadata": {},
   "outputs": [
    {
     "name": "stdout",
     "output_type": "stream",
     "text": [
      "10 20\n",
      "10 10\n"
     ]
    }
   ],
   "source": [
    "a = 10\n",
    "b = 20\n",
    "print(a,b)\n",
    "b = a # 이 과정에서 이미 b는 a값이 됨 (덮어씌워 짐)\n",
    "a = b\n",
    "print(a,b)"
   ]
  },
  {
   "cell_type": "code",
   "execution_count": 35,
   "metadata": {},
   "outputs": [
    {
     "name": "stdout",
     "output_type": "stream",
     "text": [
      "10 20\n",
      "20 10\n"
     ]
    }
   ],
   "source": [
    "a = 10\n",
    "b = 20\n",
    "temp = 0 # 백업용 임시변수\n",
    "print(a,b)\n",
    "temp = b\n",
    "b = a \n",
    "a = temp\n",
    "print(a,b)"
   ]
  },
  {
   "cell_type": "code",
   "execution_count": 36,
   "metadata": {},
   "outputs": [],
   "source": [
    "# b=2\n",
    "# print(b)\n",
    "# del b => 변수 b를 삭제함\n",
    "# print(b) ==> 존재하지 않는 변수가 되어 에러가 뜸"
   ]
  },
  {
   "cell_type": "code",
   "execution_count": 37,
   "metadata": {},
   "outputs": [
    {
     "name": "stdout",
     "output_type": "stream",
     "text": [
      "1\n",
      "1.75\n",
      "1\n"
     ]
    }
   ],
   "source": [
    "# 나머지 연산자\n",
    "print(7%3) # 7을 3으로 나눈 나머지\n",
    "print(7/4) # 7을 4로 나눈 실수몫\n",
    "print(7//4) # 7을 4로 나눈 정수몫"
   ]
  },
  {
   "cell_type": "code",
   "execution_count": 38,
   "metadata": {},
   "outputs": [
    {
     "name": "stdout",
     "output_type": "stream",
     "text": [
      "<class 'int'> 10\n",
      "<class 'float'> 10.0\n"
     ]
    }
   ],
   "source": [
    "a = 10\n",
    "print(type(a), a)\n",
    "# 자료형 변환\n",
    "a = float(a)\n",
    "print(type(a), a)"
   ]
  },
  {
   "cell_type": "code",
   "execution_count": 39,
   "metadata": {},
   "outputs": [
    {
     "name": "stdout",
     "output_type": "stream",
     "text": [
      "<class 'float'> 10.5\n",
      "<class 'int'> 10\n"
     ]
    }
   ],
   "source": [
    "a = 10.5\n",
    "print(type(a), a)\n",
    "# 자료형 변환\n",
    "a = int(a)\n",
    "print(type(a), a)"
   ]
  },
  {
   "cell_type": "code",
   "execution_count": 45,
   "metadata": {},
   "outputs": [
    {
     "name": "stdout",
     "output_type": "stream",
     "text": [
      "2.6666666666666665\n"
     ]
    }
   ],
   "source": [
    "s = 8/int(3) # 8을 정수 3으로 나누겠다\n",
    "print(s)"
   ]
  },
  {
   "cell_type": "markdown",
   "metadata": {},
   "source": [
    "### math 모듈"
   ]
  },
  {
   "cell_type": "code",
   "execution_count": 40,
   "metadata": {},
   "outputs": [
    {
     "name": "stdout",
     "output_type": "stream",
     "text": [
      "11\n",
      "10\n",
      "10\n"
     ]
    }
   ],
   "source": [
    "import math\n",
    "\n",
    "# 나눗셈 올림, 버림 등을 지정하고 싶을 때 기본 파이썬에서는 불가능\n",
    "# math 모듈을 로딩해야 함\n",
    "# round 함수는 math 모듈 불러오지 않아도 가능\n",
    "\n",
    "a = 10.3\n",
    "print(math.ceil(a)) # 올림\n",
    "\n",
    "a = 10.5\n",
    "print(round(a)) # 반올림\n",
    "\n",
    "a = 10.9\n",
    "print(math.floor(a)) # 버림"
   ]
  },
  {
   "cell_type": "code",
   "execution_count": 41,
   "metadata": {
    "scrolled": true
   },
   "outputs": [
    {
     "name": "stdout",
     "output_type": "stream",
     "text": [
      "<class 'int'>\n",
      "11\n",
      "11.0\n",
      "10.5\n",
      "10.526\n",
      "10\n"
     ]
    }
   ],
   "source": [
    "a = 10.3\n",
    "print(type(math.ceil(a))) #올림\n",
    "print(math.ceil(a))\n",
    "\n",
    "a = 10.5256\n",
    "\n",
    "print(round(a,0)) # 반올림\n",
    "print(round(a,1)) # 소수점아래 첫째자리까지 출력 (둘째자리에서 반올림)\n",
    "print(round(a,3)) # 소수점아래 셋째자리까지 출력 (넷째자리에서 반올림)\n",
    "\n",
    "a = 10.9\n",
    "print(math.floor(a)) #버림"
   ]
  },
  {
   "cell_type": "markdown",
   "metadata": {},
   "source": [
    "  "
   ]
  },
  {
   "cell_type": "markdown",
   "metadata": {},
   "source": [
    "## 2. 문자열 자료형"
   ]
  },
  {
   "cell_type": "code",
   "execution_count": 21,
   "metadata": {},
   "outputs": [
    {
     "name": "stdout",
     "output_type": "stream",
     "text": [
      "파이썬\n"
     ]
    }
   ],
   "source": [
    "a = \"파이썬\" # 문자는 작은따옴표 또는 큰따옴표로 묶음\n",
    "print(a)"
   ]
  },
  {
   "cell_type": "code",
   "execution_count": 22,
   "metadata": {},
   "outputs": [
    {
     "name": "stdout",
     "output_type": "stream",
     "text": [
      "python\n"
     ]
    }
   ],
   "source": [
    "a = 'python'\n",
    "print(a)"
   ]
  },
  {
   "cell_type": "code",
   "execution_count": 23,
   "metadata": {},
   "outputs": [
    {
     "name": "stdout",
     "output_type": "stream",
     "text": [
      "철수는 말했다. \"영희야 안녕??\"\n"
     ]
    }
   ],
   "source": [
    "# 따옴표를 문자 처리 하는 방법 1) 따옴표 앞에 역슬래시를 입력한다.\n",
    "# 이스케이프 코드\n",
    "hello = \"철수는 말했다. \\\"영희야 안녕??\\\"\"\n",
    "print(hello)"
   ]
  },
  {
   "cell_type": "code",
   "execution_count": 24,
   "metadata": {},
   "outputs": [
    {
     "name": "stdout",
     "output_type": "stream",
     "text": [
      "영희는 대답했다. \"안녕\"\n"
     ]
    }
   ],
   "source": [
    "# 따옴표를 문자 처리 하는 방법 2) 작은 따옴표 안에 큰 따옴표 or 큰 따옴표 안에 작은 따옴표\n",
    "hello2 = '영희는 대답했다. \"안녕\"'\n",
    "print(hello2)"
   ]
  },
  {
   "cell_type": "code",
   "execution_count": 26,
   "metadata": {},
   "outputs": [
    {
     "name": "stdout",
     "output_type": "stream",
     "text": [
      "어떻게 이별까지 사랑하겠어 \n",
      "널 사랑하는 거지\n"
     ]
    }
   ],
   "source": [
    "# 여러 줄인 문자열을 변수에 대입하고 싶을 때 \n",
    "# 1) \\n을 사용\n",
    "akmu = \"어떻게 이별까지 사랑하겠어 \\n널 사랑하는 거지\"\n",
    "print(akmu)"
   ]
  },
  {
   "cell_type": "code",
   "execution_count": 27,
   "metadata": {},
   "outputs": [
    {
     "name": "stdout",
     "output_type": "stream",
     "text": [
      "\n",
      "어떻게 이별까지 사랑하겠어\n",
      "널 사랑\n",
      "하는 거지\n",
      "\n"
     ]
    }
   ],
   "source": [
    "# 여러 줄인 문자열을 변수에 대입하고 싶을 때 \n",
    "# 2) 따옴표 세 번 사용\n",
    "akmu2 = \"\"\"\n",
    "어떻게 이별까지 사랑하겠어\n",
    "널 사랑\n",
    "하는 거지\n",
    "\"\"\"\n",
    "print(akmu2)"
   ]
  },
  {
   "cell_type": "code",
   "execution_count": 42,
   "metadata": {},
   "outputs": [],
   "source": [
    "# 이스케이프 코드를 사용하는 것 보다는 따옴표를 활용하는 것이 훨씬 편리하다."
   ]
  },
  {
   "cell_type": "markdown",
   "metadata": {},
   "source": [
    "**< 이스케이프 코드란? >**\n",
    "- 프로그래밍할 때 사용하기 위해 미리 정의해 둔 \"문자 조합\"\n",
    "- 주로 출력물을 보기 좋게 활용하기 위해 사용"
   ]
  },
  {
   "cell_type": "markdown",
   "metadata": {},
   "source": [
    "### 문자열의 인덱싱과 슬라이싱"
   ]
  },
  {
   "cell_type": "code",
   "execution_count": 93,
   "metadata": {},
   "outputs": [
    {
     "name": "stdout",
     "output_type": "stream",
     "text": [
      "Life is too short\n",
      "e\n",
      "r\n",
      "Life\n",
      "is too short\n",
      "Life is too short\n"
     ]
    }
   ],
   "source": [
    "# 문자열을 인덱싱할 때 문자의 집합으로 인식\n",
    "\n",
    "a = \"Life is too short\"\n",
    "# a = ['L','i','f','e',' ','i','s',' ','t','o','o',' ','s','h','o','r','t'] 처럼 인식\n",
    "# 물론 이건 완전히 다른 코드\n",
    "\n",
    "print(a)\n",
    "print(a[3]) # 문자열의 네 번째 값 (인덱스 3의 값)\n",
    "print(a[-2]) # 문자열의 뒤에서 두 번째 값\n",
    "print(a[0:4]) # 0, 1, 2, 3\n",
    "print(a[5:]) # 인덱스 5(여섯 번째 값) ~ 끝까지\n",
    "print(a[:]) # 전체"
   ]
  },
  {
   "cell_type": "markdown",
   "metadata": {},
   "source": [
    "### 문자열 formatting"
   ]
  },
  {
   "cell_type": "markdown",
   "metadata": {},
   "source": [
    "**< 포맷팅을 쓰는 이유는? >**\n",
    "- 복잡한 문자열 안의 특정한 값을 바꿔야 할 경우가 있을 때 이것을 가능하게 해주는 것이 문자열 포매팅 기법이다.\n",
    "- 두 가지 방법이 있다.\n",
    "    - 1) 포맷코드를 사용한다 \n",
    "    - 2) format 함수를 사용한다"
   ]
  },
  {
   "cell_type": "code",
   "execution_count": 57,
   "metadata": {},
   "outputs": [
    {
     "name": "stdout",
     "output_type": "stream",
     "text": [
      "당신의 나이는 20 세 입니다.\n",
      "당신의 나이는 20.000000세 입니다.\n",
      "당신의 나이는 20세 입니다.\n",
      "당신의 나이는 20.00세 입니다.\n"
     ]
    }
   ],
   "source": [
    "# 1) 포맷코드를 사용하는 방법\n",
    "\n",
    "age = 20\n",
    "# %s 스트링 형식, %d 정수, #f 실수\n",
    "# \"문자열\" % (출력할 값)\n",
    "# %: format 옵션\n",
    "\n",
    "# %s: 대입하는 값이 무엇이든 문자형으로 변형한다.\n",
    "\n",
    "print(\"당신의 나이는\", age, \"세 입니다.\")\n",
    "print(\"당신의 나이는 %f세 입니다.\" % age)\n",
    "print(\"당신의 나이는 %.0f세 입니다.\" % age)\n",
    "print(\"당신의 나이는 %.2f세 입니다.\" % age)"
   ]
  },
  {
   "cell_type": "code",
   "execution_count": 58,
   "metadata": {},
   "outputs": [
    {
     "name": "stdout",
     "output_type": "stream",
     "text": [
      "김철수 님의 나이는 20 세입니다.\n",
      "김철수 님의 나이는 20 세입니다.\n"
     ]
    }
   ],
   "source": [
    "age = 20\n",
    "name = \"김철수\"\n",
    "print(name, \"님의 나이는\", age, \"세입니다.\")\n",
    "print(\"%s 님의 나이는 %d 세입니다.\" % (name, age))"
   ]
  },
  {
   "cell_type": "code",
   "execution_count": 59,
   "metadata": {},
   "outputs": [
    {
     "name": "stdout",
     "output_type": "stream",
     "text": [
      "당신의 나이는 20세입니다.\n"
     ]
    }
   ],
   "source": [
    "# 2) format 함수를 사용하는 방법\n",
    "\n",
    "age = 20\n",
    "# 문자열.format(출력할 값)\n",
    "print(\"당신의 나이는 {}세입니다.\".format(age))\n",
    "\n",
    "# 두 가지 방식을 다 사용하긴 하지만, format 함수를 더 자주 사용한다.\n",
    "# 추후 코딩시 더 다양한 변동 값, 발전된 형태의 값을 입력할 수 있기 때문이다."
   ]
  },
  {
   "cell_type": "code",
   "execution_count": 60,
   "metadata": {},
   "outputs": [
    {
     "name": "stdout",
     "output_type": "stream",
     "text": [
      "김철수님의 나이는 20세입니다.\n"
     ]
    }
   ],
   "source": [
    "age = 20\n",
    "name = \"김철수\"\n",
    "# name => {0}, age =>{1}\n",
    "print(\"{0}님의 나이는 {1}세입니다.\".format(name, age))"
   ]
  },
  {
   "cell_type": "code",
   "execution_count": 61,
   "metadata": {},
   "outputs": [
    {
     "name": "stdout",
     "output_type": "stream",
     "text": [
      " 나는 사과를 좋아합니다.\n"
     ]
    }
   ],
   "source": [
    "fruit = \"사과\"\n",
    "# fruit 변수에 저장된 값이 스트링 형식으로 출력됨\n",
    "print(\" 나는 %s를 좋아합니다.\" % fruit)"
   ]
  },
  {
   "cell_type": "code",
   "execution_count": 62,
   "metadata": {},
   "outputs": [
    {
     "name": "stdout",
     "output_type": "stream",
     "text": [
      " 나는 사과를 좋아합니다.\n"
     ]
    }
   ],
   "source": [
    "fruit = \"사과\"\n",
    "# 변수의 인덱스를 생략할 수 있음\n",
    "print(\" 나는 {}를 좋아합니다.\".format(fruit))"
   ]
  },
  {
   "cell_type": "code",
   "execution_count": 63,
   "metadata": {},
   "outputs": [
    {
     "name": "stdout",
     "output_type": "stream",
     "text": [
      "정확도: 98\n",
      "정확도: 98%\n",
      "정확도: 98%\n"
     ]
    }
   ],
   "source": [
    "rate = 98\n",
    "\n",
    "print(\"정확도: %d\" % rate)\n",
    "print(\"정확도: 98%\")\n",
    "print(\"정확도: %d%%\" % rate)\n",
    "\n",
    "# 문자열 내부에 %를 쓰고 싶을 때: %%"
   ]
  },
  {
   "cell_type": "code",
   "execution_count": 64,
   "metadata": {},
   "outputs": [
    {
     "name": "stdout",
     "output_type": "stream",
     "text": [
      "원주율: 3.141593\n",
      "원주율:      3.142\n",
      "원주율:    3.14\n"
     ]
    }
   ],
   "source": [
    "point = 3.141592653\n",
    "print(\"원주율: %f\" % point)\n",
    "# 실수형: 기본적으로 소수점 아래 6자리까지 표현\n",
    "# 전체 자리 수.소수이하 자리수\n",
    "# 전체 자리수에는 소수점도 포함됨\n",
    "print(\"원주율: %10.3f\" % point)\n",
    "print(\"원주율: %7.2f\" % point)"
   ]
  },
  {
   "cell_type": "code",
   "execution_count": 66,
   "metadata": {},
   "outputs": [
    {
     "name": "stdout",
     "output_type": "stream",
     "text": [
      "<class 'int'>\n",
      "금액:1234567890\n",
      "<class 'str'>\n",
      "금액:1,234,567,890\n"
     ]
    }
   ],
   "source": [
    "money = 1234567890\n",
    "print(type(money))\n",
    "print(\"금액:%d\" % money) # 정수 형식\n",
    "money = format(money,',') # 천 단위 컴머 추가\n",
    "print(type(money))  # 스트링 형식으로 바뀜\n",
    "print(\"금액:%s\" % money)"
   ]
  },
  {
   "cell_type": "code",
   "execution_count": 67,
   "metadata": {},
   "outputs": [
    {
     "name": "stdout",
     "output_type": "stream",
     "text": [
      "원주율:3.141593\n",
      "원주율:3.1415927\n",
      "원주율:3.1415926535897931159979634685441851615905761718750000000000000000000000\n"
     ]
    }
   ],
   "source": [
    "import math\n",
    "print(\"원주율:%f\" % math.pi)\n",
    "print(\"원주율:%.7f\" % math.pi)\n",
    "print(\"원주율:%.70f\" % math.pi)\n",
    "# 파이썬에서 소수점 아래 숫자를 표기하는 데에는 한계가 있음\n",
    "# 소수점 아래 몇 째 자리까지 표기할 때 반올림 처리"
   ]
  },
  {
   "cell_type": "code",
   "execution_count": 68,
   "metadata": {},
   "outputs": [
    {
     "name": "stdout",
     "output_type": "stream",
     "text": [
      "<class 'float'>\n",
      "100.234567\n",
      "<class 'str'>\n",
      "100.2\n"
     ]
    }
   ],
   "source": [
    "a = 100.234567\n",
    "print(type(a))\n",
    "print(a)\n",
    "# 포매팅을 한 수의 결과값은 스트링\n",
    "b = \"%5.1f\" % a\n",
    "print(type(b))\n",
    "print(b)"
   ]
  },
  {
   "cell_type": "code",
   "execution_count": 70,
   "metadata": {},
   "outputs": [
    {
     "name": "stdout",
     "output_type": "stream",
     "text": [
      "<class 'float'>\n",
      "123456789.234567\n",
      "<class 'str'> 123,456,789.234567\n",
      "123456789.234567\n",
      "   123456789.23\n",
      "                                      123456789.23\n"
     ]
    }
   ],
   "source": [
    "a = 123456789.234567\n",
    "print(type(a))\n",
    "print(a)\n",
    "# 포매팅을 한 수의 결과값은 스트링\n",
    "# 전체 자리 수 5, 소수 이하 자리수 1\n",
    "b = format(a,',') # 천 단위 컴머 추가\n",
    "print(type(b),b)\n",
    "c = b.replace(',', '') # 컴머를 찾아서 지움\n",
    "print(c)\n",
    "d = float(c) # 스트링을 실수형으로 변환\n",
    "# 전체자리수 15자리, 소수이하 2자리\n",
    "e = format(\"%15.2f\" %d)\n",
    "print(e)\n",
    "f = format(d,',')\n",
    "print(\"{0:>50}\".format(e))"
   ]
  },
  {
   "cell_type": "code",
   "execution_count": 71,
   "metadata": {},
   "outputs": [
    {
     "name": "stdout",
     "output_type": "stream",
     "text": [
      "원주율 :       3.14\n"
     ]
    }
   ],
   "source": [
    "import math\n",
    "a = \"원주율\"\n",
    "b = math.pi\n",
    "c = \"%s : %10.2f\" % (a,b) # 형식을 맞춰서 포맷팅 코드를 입력하는 것이 중요\n",
    "print(c)"
   ]
  },
  {
   "cell_type": "code",
   "execution_count": 72,
   "metadata": {},
   "outputs": [
    {
     "name": "stdout",
     "output_type": "stream",
     "text": [
      "123456789.12345678\n",
      "                                     123456789.123\n"
     ]
    },
    {
     "name": "stderr",
     "output_type": "stream",
     "text": [
      "/Users/administrator/anaconda3/lib/python3.7/site-packages/ipykernel_launcher.py:6: DeprecationWarning: This method will be removed in a future version of Python. Use 'locale.format_string()' instead.\n",
      "  \n"
     ]
    }
   ],
   "source": [
    "import locale\n",
    "import math\n",
    "\n",
    "a = 123456789.12345678\n",
    "print(a)\n",
    "b = locale.format(\"%50.3f\", a, grouping = True)\n",
    "print(b)"
   ]
  },
  {
   "cell_type": "code",
   "execution_count": 73,
   "metadata": {},
   "outputs": [],
   "source": [
    "# deprecationWarning : 향후 더이상 지원되지 않는 명령어.\n",
    "# 버전이 업그레이드 되면 이 명령어를 쓰지 못함"
   ]
  },
  {
   "cell_type": "code",
   "execution_count": 74,
   "metadata": {},
   "outputs": [
    {
     "name": "stdout",
     "output_type": "stream",
     "text": [
      "나이 : 15세\n"
     ]
    }
   ],
   "source": [
    "age = 15\n",
    "result = \"나이 : {0}세\".format(age)\n",
    "print(result)"
   ]
  },
  {
   "cell_type": "code",
   "execution_count": 75,
   "metadata": {},
   "outputs": [
    {
     "name": "stdout",
     "output_type": "stream",
     "text": [
      "나이: 15세\n"
     ]
    }
   ],
   "source": [
    "# format 함수를 포맷코드로 바꿔보기\n",
    "\n",
    "age = 15\n",
    "result = \"나이: %d세\" % age\n",
    "\n",
    "print(result)"
   ]
  },
  {
   "cell_type": "code",
   "execution_count": 76,
   "metadata": {},
   "outputs": [
    {
     "name": "stdout",
     "output_type": "stream",
     "text": [
      "<class 'float'>\n",
      "<class 'str'>\n",
      "15.124000\n"
     ]
    }
   ],
   "source": [
    "a = 15.124\n",
    "print(type(a))\n",
    "b = \"%f\" % a\n",
    "\n",
    "print(type(b))\n",
    "print(b)"
   ]
  },
  {
   "cell_type": "code",
   "execution_count": 79,
   "metadata": {},
   "outputs": [
    {
     "ename": "TypeError",
     "evalue": "%d format: a number is required, not str",
     "output_type": "error",
     "traceback": [
      "\u001b[0;31m---------------------------------------------------------------------------\u001b[0m",
      "\u001b[0;31mTypeError\u001b[0m                                 Traceback (most recent call last)",
      "\u001b[0;32m<ipython-input-79-8be132215715>\u001b[0m in \u001b[0;36m<module>\u001b[0;34m\u001b[0m\n\u001b[1;32m      1\u001b[0m \u001b[0ma\u001b[0m \u001b[0;34m=\u001b[0m \u001b[0;34m\"15\"\u001b[0m\u001b[0;34m\u001b[0m\u001b[0;34m\u001b[0m\u001b[0m\n\u001b[0;32m----> 2\u001b[0;31m \u001b[0mb\u001b[0m \u001b[0;34m=\u001b[0m\u001b[0;34m\"%d\"\u001b[0m \u001b[0;34m%\u001b[0m \u001b[0ma\u001b[0m\u001b[0;34m\u001b[0m\u001b[0;34m\u001b[0m\u001b[0m\n\u001b[0m\u001b[1;32m      3\u001b[0m \u001b[0mprint\u001b[0m\u001b[0;34m(\u001b[0m\u001b[0mb\u001b[0m\u001b[0;34m)\u001b[0m \u001b[0;31m# ==> 에러\u001b[0m\u001b[0;34m\u001b[0m\u001b[0;34m\u001b[0m\u001b[0m\n\u001b[1;32m      4\u001b[0m \u001b[0;34m\u001b[0m\u001b[0m\n\u001b[1;32m      5\u001b[0m \u001b[0;31m# 숫자를 문자열로 변환할 수는 있지만 문자를 숫자형으로 변환할 수는 없음\u001b[0m\u001b[0;34m\u001b[0m\u001b[0;34m\u001b[0m\u001b[0;34m\u001b[0m\u001b[0m\n",
      "\u001b[0;31mTypeError\u001b[0m: %d format: a number is required, not str"
     ]
    }
   ],
   "source": [
    "a = \"15\"\n",
    "b =\"%d\" % a\n",
    "print(b) # ==> 에러\n",
    "\n",
    "# 숫자를 문자열로 변환할 수는 있지만 문자를 숫자형으로 변환할 수는 없음\n",
    "# 포맷팅을 하고 난 뒤에는 무조건 문자열 자료형으로 바뀜"
   ]
  },
  {
   "cell_type": "code",
   "execution_count": 80,
   "metadata": {},
   "outputs": [
    {
     "name": "stdout",
     "output_type": "stream",
     "text": [
      "<class 'str'> 15\n",
      "<class 'str'> 15\n",
      "<class 'int'> 15\n"
     ]
    }
   ],
   "source": [
    "a = \"15\"\n",
    "b =\"%d\" % int(a)\n",
    "# 문자형으로 바뀌었던 정수를 다시 정수형으로 바꾸어서 %d 코드에 대입하면 출력 가능 \n",
    "print(type(b), b) # 문자형이 됨\n",
    "\n",
    "int(b)\n",
    "print(type(b), b) # int()를 하면 순간 계산만 되고 실제 b의 자료형을 바꾸지는 않음\n",
    "\n",
    "b = int(b) # b의 자료형을 바꾸려면 b에 다시 그 식을 대입해 주어야함\n",
    "print(type(b), b)"
   ]
  },
  {
   "cell_type": "code",
   "execution_count": 81,
   "metadata": {},
   "outputs": [
    {
     "name": "stdout",
     "output_type": "stream",
     "text": [
      "이름:김철수\n"
     ]
    }
   ],
   "source": [
    "name = \"김철수\"\n",
    "result = \"이름:{0}\".format(name)\n",
    "print(result)"
   ]
  },
  {
   "cell_type": "code",
   "execution_count": 82,
   "metadata": {},
   "outputs": [
    {
     "name": "stdout",
     "output_type": "stream",
     "text": [
      "이름:김철수\n"
     ]
    }
   ],
   "source": [
    "# format 함수를 포맷코드로 바꿔보기\n",
    "\n",
    "name = \"김철수\"\n",
    "result = \"이름:%s\" % name\n",
    "print(result)"
   ]
  },
  {
   "cell_type": "code",
   "execution_count": 83,
   "metadata": {},
   "outputs": [
    {
     "name": "stdout",
     "output_type": "stream",
     "text": [
      "김철수님의 나이는 15세입니다.\n"
     ]
    }
   ],
   "source": [
    "result = \"{0}님의 나이는 {1}세입니다.\".format(name, age)\n",
    "print(result)"
   ]
  },
  {
   "cell_type": "code",
   "execution_count": 84,
   "metadata": {},
   "outputs": [
    {
     "name": "stdout",
     "output_type": "stream",
     "text": [
      "김철수님의 나이는 20세입니다.\n"
     ]
    }
   ],
   "source": [
    "# 숫자 인덱스 대신 변수명을 사용할 수 있음\n",
    "result = \"{name}님의 나이는 {age}세입니다.\".format(\n",
    "    name = \"김철수\", age = 20)\n",
    "print(result)\n",
    "\n",
    "# 괄호 안에서는 엔터를 쳐도 이어짐"
   ]
  },
  {
   "cell_type": "code",
   "execution_count": 85,
   "metadata": {},
   "outputs": [
    {
     "name": "stdout",
     "output_type": "stream",
     "text": [
      "hi\n"
     ]
    }
   ],
   "source": [
    "# 기본 값은 왼쪽 정렬\n",
    "result = \"{0}\".format(\"hi\")\n",
    "print(result) "
   ]
  },
  {
   "cell_type": "code",
   "execution_count": 86,
   "metadata": {},
   "outputs": [
    {
     "name": "stdout",
     "output_type": "stream",
     "text": [
      "hi        \n"
     ]
    }
   ],
   "source": [
    "# 0:n 기본 값은 왼쪽 정렬\n",
    "# 전체 자리수는 n으로 설정\n",
    "result = \"{0:10}\".format(\"hi\")\n",
    "print(result) \n",
    "# 왼쪽 정렬이고 자리 수는 10개인 문자열"
   ]
  },
  {
   "cell_type": "code",
   "execution_count": 87,
   "metadata": {},
   "outputs": [
    {
     "name": "stdout",
     "output_type": "stream",
     "text": [
      "hi        \n"
     ]
    }
   ],
   "source": [
    "# 0:<n 왼쪽 정렬\n",
    "# 전체 자리수는 n으로 설정\n",
    "result = \"{0:<10}\".format(\"hi\")\n",
    "print(result)"
   ]
  },
  {
   "cell_type": "code",
   "execution_count": 88,
   "metadata": {},
   "outputs": [
    {
     "name": "stdout",
     "output_type": "stream",
     "text": [
      "        hi\n"
     ]
    }
   ],
   "source": [
    "# 0:>n 오른쪽 정렬\n",
    "# 전체 자리수는 n으로 설정\n",
    "result = \"{0:>10}\".format(\"hi\")\n",
    "print(result)"
   ]
  },
  {
   "cell_type": "code",
   "execution_count": 89,
   "metadata": {},
   "outputs": [
    {
     "name": "stdout",
     "output_type": "stream",
     "text": [
      "    hi    \n",
      "10\n"
     ]
    }
   ],
   "source": [
    "# 0:^n 가운데 정렬, ^ hat\n",
    "# 전체 자리수는 n으로 설정\n",
    "result = \"{0:^10}\".format(\"hi\")\n",
    "print(result)\n",
    "print(len(result))"
   ]
  },
  {
   "cell_type": "code",
   "execution_count": 90,
   "metadata": {},
   "outputs": [
    {
     "name": "stdout",
     "output_type": "stream",
     "text": [
      "====hi====\n",
      "____hi____\n"
     ]
    }
   ],
   "source": [
    "# 0:=^n 가운데 정렬이며, 공백 부분을 =로 채움\n",
    "# 전체 자리수는 n으로 설정\n",
    "result = \"{0:=^10}\".format(\"hi\")\n",
    "print(result)\n",
    "result = \"{0:_^10}\".format(\"hi\")\n",
    "print(result)"
   ]
  },
  {
   "cell_type": "code",
   "execution_count": 91,
   "metadata": {},
   "outputs": [],
   "source": [
    "# : 콜론, ; 세미콜론, ^ 햇, - 하이픈, _ 언더스코어, # 샵\n",
    "# \" 큰따옴표, ' 작은따옴표\n",
    "# / 슬래시, \\ 백슬래시, * 애스터리스크, & 앰퍼센드, @ at(앳)\n",
    "# {인덱스:}"
   ]
  },
  {
   "cell_type": "markdown",
   "metadata": {},
   "source": [
    "### 문자열 관련 함수들"
   ]
  },
  {
   "cell_type": "markdown",
   "metadata": {},
   "source": [
    "#### count 함수"
   ]
  },
  {
   "cell_type": "code",
   "execution_count": 118,
   "metadata": {},
   "outputs": [
    {
     "name": "stdout",
     "output_type": "stream",
     "text": [
      "hobby happy\n",
      "2\n",
      "찾은 횟수: 1\n"
     ]
    }
   ],
   "source": [
    "a = \"hobby happy\"\n",
    "print(a)\n",
    "# 문자열 a에서 y가 몇 개 있는 지 계산\n",
    "print(a.count(\"y\")) # count 함수\n",
    "\n",
    "print(\"찾은 횟수:\", a.count(\"o\"))"
   ]
  },
  {
   "cell_type": "code",
   "execution_count": 119,
   "metadata": {},
   "outputs": [
    {
     "name": "stdout",
     "output_type": "stream",
     "text": [
      "찾은 횟수: 2\n"
     ]
    }
   ],
   "source": [
    "# count 함수를 for문으로 작성하면 어떻게 할 수 있을까?\n",
    "\n",
    "a = \"hobby\"\n",
    "c = 0 # 카운트 값을 저장할 변수\n",
    "for i in a:\n",
    "    # i는 원소(요소), a는 집합(클래스), 콜론은 블록의 시작\n",
    "    # print (i) ==> 반복문이니 속해있는 요소를 모두 출력(기본은 한 줄에 한 요소)\n",
    "    if i == \"b\":  # 비교 연산. i와 b가 같은지 검사\n",
    "        c += 1  # c의 값을 1 증가 시킴. c = c+1과 같은 표현\n",
    "        \n",
    "print(\"찾은 횟수:\", c)\n",
    "\n",
    "# 들여쓰기가 끝나면 블록이 끝남\n",
    "\n",
    "# 코드가 복잡해지면 for문을 활용하기 좋을테니 익숙해지자"
   ]
  },
  {
   "cell_type": "markdown",
   "metadata": {},
   "source": [
    "#### 문자열 인덱스 찾기 (find와 index)"
   ]
  },
  {
   "cell_type": "code",
   "execution_count": 120,
   "metadata": {},
   "outputs": [
    {
     "name": "stdout",
     "output_type": "stream",
     "text": [
      "7\n",
      "-1\n"
     ]
    }
   ],
   "source": [
    "a = \"Have a nice day\"\n",
    "# 문자열 a에서 nice 문자열이 몇번 째 위치에 있는 지\n",
    "print(a.find(\"nice\")) \n",
    "# 시작되는 지점의 인덱스를 출력\n",
    "# 파이썬은 0부터 카운트 하므로 8이 아니라 7을 출력\n",
    "print(a.find(\"have\")) # 찾는 내용이 없으면 -1"
   ]
  },
  {
   "cell_type": "code",
   "execution_count": 121,
   "metadata": {},
   "outputs": [
    {
     "name": "stdout",
     "output_type": "stream",
     "text": [
      "8\n"
     ]
    }
   ],
   "source": [
    "a = \"Life is too short\"\n",
    "print(a.index(\"too\"))\n",
    "# print(a.index(\"kind\")) ==> 에러\n",
    "\n",
    "# 인덱스 함수는 찾는 내용이 없으면 에러가 뜬다. 이것이 find와의 차이점"
   ]
  },
  {
   "cell_type": "markdown",
   "metadata": {},
   "source": [
    "#### join"
   ]
  },
  {
   "cell_type": "code",
   "execution_count": 122,
   "metadata": {},
   "outputs": [
    {
     "name": "stdout",
     "output_type": "stream",
     "text": [
      "a-b-c-d\n"
     ]
    }
   ],
   "source": [
    "a = \"-\" # 글자 중간에 삽입할 문자\n",
    "result = a.join(\"abcd\")\n",
    "print(result)"
   ]
  },
  {
   "cell_type": "markdown",
   "metadata": {},
   "source": [
    "#### 대소문자 변환"
   ]
  },
  {
   "cell_type": "code",
   "execution_count": 123,
   "metadata": {},
   "outputs": [
    {
     "name": "stdout",
     "output_type": "stream",
     "text": [
      "HI\n",
      "hi\n",
      "Python program\n"
     ]
    }
   ],
   "source": [
    "# 대소문자 변환 함수\n",
    "\n",
    "a = \"hi\"\n",
    "result = a.upper() # 소문자를 대문자로\n",
    "print(result)\n",
    "a = \"HI\"\n",
    "result = a.lower() # 대문자를 소문자로\n",
    "print(result)\n",
    "a = \"python program\"\n",
    "result = a.capitalize() # 첫글자를 대문자로\n",
    "print(result)\n",
    "\n",
    "# 데이터 전처리 시 활용 ex) 은행 등에서 인적사항 입력할 때 자동으로 대문자로 변환되는 경우 이 함수를 사용"
   ]
  },
  {
   "cell_type": "markdown",
   "metadata": {},
   "source": [
    "#### strip 함수"
   ]
  },
  {
   "cell_type": "code",
   "execution_count": 124,
   "metadata": {},
   "outputs": [
    {
     "name": "stdout",
     "output_type": "stream",
     "text": [
      "      hi    \n",
      "hi    \n",
      "      hi\n",
      "hi\n"
     ]
    }
   ],
   "source": [
    "# 공백 지우기\n",
    "\n",
    "a = \"      hi    \"\n",
    "print(a)\n",
    "result = a.lstrip() # left 좌측공백 제거\n",
    "print(result)\n",
    "result = a.rstrip() # right 우측공백 제거\n",
    "print(result)\n",
    "result = a.strip() # 좌우측공백 제거\n",
    "print(result)"
   ]
  },
  {
   "cell_type": "markdown",
   "metadata": {},
   "source": [
    "#### replace 함수"
   ]
  },
  {
   "cell_type": "code",
   "execution_count": 125,
   "metadata": {},
   "outputs": [
    {
     "name": "stdout",
     "output_type": "stream",
     "text": [
      "경력 개발자 경력사원\n"
     ]
    }
   ],
   "source": [
    "# replace: 단어 바꾸기\n",
    "# 데이터 전처리 시에 많이 사용\n",
    "\n",
    "a = \"신입 개발자 신입사원\"\n",
    "result = a.replace(\"신입\", \"경력\") # replace(A, B) A를 B로 변경\n",
    "print(result)"
   ]
  },
  {
   "cell_type": "markdown",
   "metadata": {},
   "source": [
    "#### split 함수"
   ]
  },
  {
   "cell_type": "code",
   "execution_count": 126,
   "metadata": {},
   "outputs": [
    {
     "name": "stdout",
     "output_type": "stream",
     "text": [
      "['a', 'b', 'c', 'd']\n"
     ]
    }
   ],
   "source": [
    "# split: 문자열 쪼개기\n",
    "# 데이터 전처리 시에 많이 사용\n",
    "\n",
    "a = \"a:b:c:d\"\n",
    "result = a.split(\":\") # 구분자를 기준으로 쪼개어 리스트로 저장\n",
    "print(result)"
   ]
  },
  {
   "cell_type": "code",
   "execution_count": 127,
   "metadata": {},
   "outputs": [
    {
     "name": "stdout",
     "output_type": "stream",
     "text": [
      "['1', '2', '3', '4']\n"
     ]
    }
   ],
   "source": [
    "b = \"1-2-3-4\"\n",
    "result = b.split(\"-\") # 구분자를 기준으로 쪼개어 리스트로 저장\n",
    "print(result)"
   ]
  },
  {
   "cell_type": "code",
   "execution_count": 128,
   "metadata": {},
   "outputs": [
    {
     "name": "stdout",
     "output_type": "stream",
     "text": [
      "['김철호', '30', '170']\n"
     ]
    }
   ],
   "source": [
    "# csv 파일: comma separated values. field가 콤마로 구분된 파일 (엑셀로도 열 수 있음)\n",
    "# 실제 데이터 분석 시에 csv 파일을 자주 활용\n",
    "# 저장된 데이터를 쪼개어 리스트로 저장하여 분석에 활용하기 위해 split를 활용할 수 있음\n",
    "\n",
    "a = \"김철호,30,170\"\n",
    "result = a.split(\",\") # 구분자를 기준으로 쪼개어 리스트로 저장\n",
    "print(result)"
   ]
  },
  {
   "cell_type": "markdown",
   "metadata": {},
   "source": [
    "#### 문자코드 확인"
   ]
  },
  {
   "cell_type": "code",
   "execution_count": 141,
   "metadata": {},
   "outputs": [
    {
     "name": "stdout",
     "output_type": "stream",
     "text": [
      "A\n",
      "65\n",
      "97\n",
      "49\n"
     ]
    }
   ],
   "source": [
    "a = 'A'\n",
    "print(a)\n",
    "print(ord(a))\n",
    "# ord(): 문자코드\n",
    "\n",
    "print(ord('a'))\n",
    "print(ord('1'))"
   ]
  },
  {
   "cell_type": "code",
   "execution_count": 146,
   "metadata": {},
   "outputs": [
    {
     "name": "stdout",
     "output_type": "stream",
     "text": [
      "65\n",
      "A\n"
     ]
    }
   ],
   "source": [
    "print(ord('A')) # A의 문자코드 값\n",
    "print(chr(65)) # 문자코드 65의 값"
   ]
  },
  {
   "cell_type": "code",
   "execution_count": 161,
   "metadata": {
    "scrolled": true
   },
   "outputs": [
    {
     "name": "stdout",
     "output_type": "stream",
     "text": [
      "0 \u0000 1 \u0001 2 \u0002 3 \u0003 4 \u0004 5 \u0005 6 \u0006 7 \u0007 8 \b 9 \t 10 \n",
      " 11 \u000b",
      " 12 \f",
      " 13 \r",
      " 14 \u000e 15 \u000f 16 \u0010 17 \u0011 18 \u0012 19 \u0013 20 \u0014 21 \u0015 22 \u0016 23 \u0017 24 \u0018 25 \u0019 26 \u001a 27 \u001b 28 \u001c",
      " 29 \u001d",
      " 30 \u001e",
      " 31 \u001f 32   33 ! 34 \" 35 # 36 $ 37 % 38 & 39 ' 40 ( 41 ) 42 * 43 + 44 , 45 - 46 . 47 / 48 0 49 1 50 2 51 3 52 4 53 5 54 6 55 7 56 8 57 9 58 : 59 ; 60 < 61 = 62 > 63 ? 64 @ 65 A 66 B 67 C 68 D 69 E 70 F 71 G 72 H 73 I 74 J 75 K 76 L 77 M 78 N 79 O 80 P 81 Q 82 R 83 S 84 T 85 U 86 V 87 W 88 X 89 Y 90 Z 91 [ 92 \\ 93 ] 94 ^ 95 _ 96 ` 97 a 98 b 99 c 100 d 101 e 102 f 103 g 104 h 105 i 106 j 107 k 108 l 109 m 110 n 111 o 112 p 113 q 114 r 115 s 116 t 117 u 118 v 119 w 120 x 121 y 122 z 123 { 124 | 125 } 126 ~ 127  128  129  130  131  132  133 ",
      " 134  135  136  137  138  139  140  141  142  143  144  145  146  147  148  149  150  151  152  153  154  155  156  157  158  159  160   161 ¡ 162 ¢ 163 £ 164 ¤ 165 ¥ 166 ¦ 167 § 168 ¨ 169 © 170 ª 171 « 172 ¬ 173 ­ 174 ® 175 ¯ 176 ° 177 ± 178 ² 179 ³ 180 ´ 181 µ 182 ¶ 183 · 184 ¸ 185 ¹ 186 º 187 » 188 ¼ 189 ½ 190 ¾ 191 ¿ 192 À 193 Á 194 Â 195 Ã 196 Ä 197 Å 198 Æ 199 Ç 200 È 201 É 202 Ê 203 Ë 204 Ì 205 Í 206 Î 207 Ï 208 Ð 209 Ñ 210 Ò 211 Ó 212 Ô 213 Õ 214 Ö 215 × 216 Ø 217 Ù 218 Ú 219 Û 220 Ü 221 Ý 222 Þ 223 ß 224 à 225 á 226 â 227 ã 228 ä 229 å 230 æ 231 ç 232 è 233 é 234 ê 235 ë 236 ì 237 í 238 î 239 ï 240 ð 241 ñ 242 ò 243 ó 244 ô 245 õ 246 ö 247 ÷ 248 ø 249 ù 250 ú 251 û 252 ü 253 ý 254 þ 255 ÿ "
     ]
    }
   ],
   "source": [
    "for i in range(0, 256):\n",
    "    print(i, chr(i), end =' ')"
   ]
  },
  {
   "cell_type": "markdown",
   "metadata": {},
   "source": [
    "  "
   ]
  },
  {
   "cell_type": "markdown",
   "metadata": {},
   "source": [
    "## 3. 논리형"
   ]
  },
  {
   "cell_type": "code",
   "execution_count": 43,
   "metadata": {},
   "outputs": [
    {
     "name": "stdout",
     "output_type": "stream",
     "text": [
      "<class 'bool'>\n",
      "True\n",
      "False\n",
      "False\n",
      "True\n"
     ]
    }
   ],
   "source": [
    "hungry = True # True, False 대문자 반드시 지켜야 함\n",
    "sleepy = False\n",
    "\n",
    "print(type(hungry)) # bool: 논리형\n",
    "print(hungry)\n",
    "print(not hungry) # 논리부정. 변수가 완전히 부정된 형태는 아님\n",
    "# \"hungry = not hungry\"로 지정할 경우 False로 바뀜\n",
    "print(hungry and sleepy) # A and B : A,B 모두 True일 때만 True\n",
    "print(hungry or sleepy) # A or B : A,B 중 한 개 이상이 True이면 True"
   ]
  },
  {
   "cell_type": "code",
   "execution_count": 44,
   "metadata": {},
   "outputs": [
    {
     "data": {
      "text/plain": [
       "str"
      ]
     },
     "execution_count": 44,
     "metadata": {},
     "output_type": "execute_result"
    }
   ],
   "source": [
    "a = \"True\"\n",
    "type(a)"
   ]
  },
  {
   "cell_type": "code",
   "execution_count": 45,
   "metadata": {},
   "outputs": [
    {
     "data": {
      "text/plain": [
       "bool"
      ]
     },
     "execution_count": 45,
     "metadata": {},
     "output_type": "execute_result"
    }
   ],
   "source": [
    "b = True\n",
    "type(b)"
   ]
  },
  {
   "cell_type": "code",
   "execution_count": 46,
   "metadata": {},
   "outputs": [
    {
     "name": "stdout",
     "output_type": "stream",
     "text": [
      "<class 'str'>\n",
      "<class 'bool'>\n",
      "0\n",
      "1\n"
     ]
    }
   ],
   "source": [
    "print(type(a))\n",
    "print(type(b))\n",
    "print(1 and 0) # and나 or이 숫자에서도 적용될 수 있음. 파이썬에서 0은 Fasle, 나머지 값은 True로 적용됨\n",
    "print(1 or 0) # 조건문에서 더 자세히 다룰 예정이니 그냥 일단 알아두자"
   ]
  },
  {
   "cell_type": "markdown",
   "metadata": {},
   "source": [
    "## 4. 비교연산자"
   ]
  },
  {
   "cell_type": "code",
   "execution_count": 47,
   "metadata": {},
   "outputs": [
    {
     "name": "stdout",
     "output_type": "stream",
     "text": [
      "False\n"
     ]
    }
   ],
   "source": [
    "a = 10\n",
    "b = 20\n",
    "print(a == b)\n",
    "\n",
    "# '같다'를 나타낼 때 '=='를 사용"
   ]
  },
  {
   "cell_type": "code",
   "execution_count": 48,
   "metadata": {},
   "outputs": [],
   "source": [
    "a = 10\n",
    "b = 20\n",
    "# print(a = b)\n",
    "\n",
    "# '='은 대입의 의미이므로 이러한 문법은 적합하지 않음. 에러 발생.\n",
    "# '='는 대입, '=='는 비교"
   ]
  },
  {
   "cell_type": "code",
   "execution_count": 49,
   "metadata": {},
   "outputs": [
    {
     "name": "stdout",
     "output_type": "stream",
     "text": [
      "True\n"
     ]
    }
   ],
   "source": [
    "a = 10\n",
    "b = 20\n",
    "print(a!=b)\n",
    "\n",
    "# '같지 않다'를 나타낼 때 '!='를 사용"
   ]
  },
  {
   "cell_type": "code",
   "execution_count": 50,
   "metadata": {},
   "outputs": [
    {
     "name": "stdout",
     "output_type": "stream",
     "text": [
      "ok\n",
      "ok\n"
     ]
    }
   ],
   "source": [
    "a = 1\n",
    "b = 3\n",
    "\n",
    "# if 조건식\n",
    "if a == 1 and b == 3: \n",
    "    print('ok') \n",
    "\n",
    "# 조건식이 True이면 실행됨.\n",
    "# 콜론 이후 조건문에 따른 결과 작성. 반드시 들여쓰기 되어야 적용됨.\n",
    "    \n",
    "if a == 1 and \\\n",
    "    b == 3:   \n",
    "    print('ok')\n",
    "\n",
    "# 한 줄에 다 쓰지 못할 경우 \\로 연결. 나중에 식이 복잡해 질 때 활용한다."
   ]
  },
  {
   "cell_type": "code",
   "execution_count": 51,
   "metadata": {},
   "outputs": [
    {
     "name": "stdout",
     "output_type": "stream",
     "text": [
      "Hello\n",
      "\n",
      "Python\n",
      "\n",
      "    hello\n",
      "    python\n",
      "\n"
     ]
    }
   ],
   "source": [
    "# \\n 줄바꿈 문자, 개행 문자 new line\n",
    "\n",
    "multiline = \"Hello\\n\\nPython\"\n",
    "print(multiline)\n",
    "\n",
    "# 작은따옴표(큰따옴표) 3개\n",
    "multiline = '''\n",
    "    hello\n",
    "    python\n",
    "'''\n",
    "\n",
    "print(multiline)"
   ]
  },
  {
   "cell_type": "code",
   "execution_count": 52,
   "metadata": {},
   "outputs": [
    {
     "name": "stdout",
     "output_type": "stream",
     "text": [
      "파이썬은 재미있다.\n"
     ]
    }
   ],
   "source": [
    "head = \"파이썬은 \"\n",
    "tail = \"재미있다.\"\n",
    "\n",
    "# + 연산자는 덧셈 연산자\n",
    "# 문자열 + 문자열 => 문자열 연결\n",
    "# 두 변수를 붙여서 쓰는 경우가 많음\n",
    "\n",
    "print(head + tail)"
   ]
  },
  {
   "cell_type": "code",
   "execution_count": 53,
   "metadata": {},
   "outputs": [],
   "source": [
    "name = \"김철수\"\n",
    "age = 20\n",
    "\n",
    "# 문자열 + 숫자 => 에러 발생\n",
    "# 같은 자료형끼리만 더할 수 있음\n",
    "\n",
    "# print(\"이름:\" + name + \", 나이:\" + age) ==> 에러 발생"
   ]
  },
  {
   "cell_type": "code",
   "execution_count": 54,
   "metadata": {},
   "outputs": [
    {
     "name": "stdout",
     "output_type": "stream",
     "text": [
      "이름:김철수, 나이:20\n"
     ]
    }
   ],
   "source": [
    "name = \"김철수\"\n",
    "age = 20\n",
    "\n",
    "# str(숫자) : 숫자를 문자열로 변환\n",
    "\n",
    "print(\"이름:\" + name + \", 나이:\" + str(age))"
   ]
  },
  {
   "cell_type": "code",
   "execution_count": 55,
   "metadata": {},
   "outputs": [
    {
     "data": {
      "text/plain": [
       "200"
      ]
     },
     "execution_count": 55,
     "metadata": {},
     "output_type": "execute_result"
    }
   ],
   "source": [
    "a = 10\n",
    "b = 20\n",
    "a*b"
   ]
  },
  {
   "cell_type": "code",
   "execution_count": 56,
   "metadata": {},
   "outputs": [
    {
     "name": "stdout",
     "output_type": "stream",
     "text": [
      "파이썬파이썬\n",
      "파이썬파이썬파이썬\n",
      "==================================================\n",
      "My Program\n",
      "==================================================\n"
     ]
    }
   ],
   "source": [
    "a = \"파이썬\"\n",
    "print(a*2) # a 문자열의 내용이 2회 반복됨 \n",
    "print(a*3) # a 문자열의 내용이 3회 반복됨\n",
    "\n",
    "print(\"=\"*50)\n",
    "print(\"My Program\")\n",
    "print(\"=\"*50)"
   ]
  },
  {
   "cell_type": "code",
   "execution_count": null,
   "metadata": {},
   "outputs": [],
   "source": []
  },
  {
   "cell_type": "code",
   "execution_count": null,
   "metadata": {},
   "outputs": [],
   "source": []
  }
 ],
 "metadata": {
  "kernelspec": {
   "display_name": "Python 3",
   "language": "python",
   "name": "python3"
  },
  "language_info": {
   "codemirror_mode": {
    "name": "ipython",
    "version": 3
   },
   "file_extension": ".py",
   "mimetype": "text/x-python",
   "name": "python",
   "nbconvert_exporter": "python",
   "pygments_lexer": "ipython3",
   "version": "3.7.1"
  }
 },
 "nbformat": 4,
 "nbformat_minor": 2
}
